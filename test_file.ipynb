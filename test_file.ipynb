{
 "cells": [
  {
   "cell_type": "code",
   "execution_count": 1,
   "id": "a13a3770-034b-4f4e-ad2c-5f96a517ca90",
   "metadata": {},
   "outputs": [
    {
     "name": "stderr",
     "output_type": "stream",
     "text": [
      "...\n",
      "----------------------------------------------------------------------\n",
      "Ran 3 tests in 0.280s\n",
      "\n",
      "OK\n"
     ]
    },
    {
     "data": {
      "text/plain": [
       "<unittest.runner.TextTestResult run=3 errors=0 failures=0>"
      ]
     },
     "execution_count": 1,
     "metadata": {},
     "output_type": "execute_result"
    }
   ],
   "source": [
    "import unittest\n",
    "import pandas as pd\n",
    "import tkinter as tk\n",
    "root = tk.Tk()\n",
    "\n",
    "class GUI_ICA(unittest.TestCase):\n",
    "    def setUp(self):\n",
    "        self.window = tk.Tk()\n",
    "\n",
    "    def test_myLabel(self):\n",
    "        myLabel = tk.Label(self.window)\n",
    "        myLabel = tk.Label(root, text='Zeus app (Stop and search / Covid19)') \n",
    "             \n",
    "    def test_covid_button(self):\n",
    "        covid_button = tk.Button(self.window)\n",
    "        covid_button = tk.Button(root, text=\"Covid 19 report\")\n",
    "        \n",
    "    def test_police_button(self):\n",
    "        police_button = tk.Button(self.window)\n",
    "        police_button = tk.Button(root, text=\"Police report\")        \n",
    "\n",
    "tests = unittest.TestLoader().loadTestsFromTestCase(GUI_ICA)\n",
    "unittest.TextTestRunner().run(tests)"
   ]
  }
 ],
 "metadata": {
  "kernelspec": {
   "display_name": "Python 3 (ipykernel)",
   "language": "python",
   "name": "python3"
  },
  "language_info": {
   "codemirror_mode": {
    "name": "ipython",
    "version": 3
   },
   "file_extension": ".py",
   "mimetype": "text/x-python",
   "name": "python",
   "nbconvert_exporter": "python",
   "pygments_lexer": "ipython3",
   "version": "3.9.12"
  }
 },
 "nbformat": 4,
 "nbformat_minor": 5
}
